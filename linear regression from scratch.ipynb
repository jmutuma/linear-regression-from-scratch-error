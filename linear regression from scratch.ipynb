{
 "cells": [
  {
   "cell_type": "code",
   "execution_count": 11,
   "id": "a43becd6",
   "metadata": {},
   "outputs": [],
   "source": [
    "class ScratchLinearRegression():\n",
    "    def __init__(self, num_iter, lr, no_bias, verbose): \n",
    "        self.num_iter = num_iter\n",
    "        self.lr = lr\n",
    "        self.bias = bias\n",
    "        self.verbose = verbose\n",
    "        self.theta = np.array([])\n",
    "        self.loss = np.array([])\n",
    "        self.val_loss = np.array([])\n",
    "        \n",
    "    def fit(self, X, y, X_val, y_val): \n",
    "        if self.bias == True:\n",
    "            bias = np.ones((X.shape[0], 1))\n",
    "            X = np.hstack((bias, X))\n",
    "            bias = np.ones((X_val.shape[0], 1))\n",
    "            X_val = np.hstack((bias, X_val))\n",
    "        self.theta = np.zeros(X.shape[1])\n",
    "        self.theta = self.theta.reshape(X.shape[1], 1)\n",
    "        for i in range(self.num_iter):\n",
    "            pred = self._linear_hypothesis(X)\n",
    "            pred_val = self._linear_hypothesis(X_val)\n",
    "            self._gradient_descent(X, y)\n",
    "            loss = self._loss_func(pred, y)\n",
    "            self.loss = np.append(self.loss, loss)\n",
    "            loss_val = self._loss_func(pred_val, y_val)\n",
    "            self.val_loss = np.append(self.val_loss, loss_val)\n",
    "            if verbose == True:\n",
    "                print('{}回目の学習の損失は{}'.format(i,loss))\n",
    "\n",
    "   \n",
    "    def _linear_hypothesis(self, X):\n",
    "        pred = X @ self.theta\n",
    "        return pred\n",
    "\n",
    "    def _gradient_descent(self, X, y):\n",
    "        m = X.shape[0]\n",
    "        n = X.shape[1]\n",
    "        pred = self.linear_hypothesis(X)\n",
    "        for j in range(n):\n",
    "            gradient = 0\n",
    "            for i in range(m):\n",
    "                gradient += (pred[i] - y[i]) * X[i, j]\n",
    "            self.theta[j] = self.theta[j] - self.lr * (gradient / m)\n",
    "    \n",
    "    def predict(self, x):\n",
    "        if self.bias == True:\n",
    "            bias = np.ones(X.shape[0]).reshape(X.shape[0], 1)\n",
    "            X = np.hstack([bias, X])\n",
    "        pred_y = self._linear_hypothesis(X)\n",
    "        return pred_y\n",
    "        \n",
    "    def MSE(self,y_pred,y):\n",
    "        mse = ((y_pred - y) ** 2).sum() / X.shape[0]\n",
    "        return mse\n",
    "       \n",
    "   \n",
    "    def _loss_func(self,y_pred,y):\n",
    "        loss = self.MSE(pred, y)/2\n",
    "        return loss\n",
    "        \n",
    "        \n",
    "    \n",
    "\n",
    "        "
   ]
  },
  {
   "cell_type": "code",
   "execution_count": 12,
   "id": "29974ea5",
   "metadata": {},
   "outputs": [],
   "source": [
    "import numpy as np\n",
    "import pandas as pd\n",
    "from sklearn.model_selection import train_test_split\n",
    "dataset = pd.read_csv(\"train.csv\")\n",
    "X = dataset.loc[:, ['GrLivArea', 'YearBuilt']]\n",
    "y = dataset.loc[:, ['SalePrice']]\n",
    "X = X.values\n",
    "y = y.values\n",
    "X_train, X_test, y_train, y_test = train_test_split(X, y, train_size=0.8)"
   ]
  },
  {
   "cell_type": "code",
   "execution_count": 13,
   "id": "6be8780a",
   "metadata": {},
   "outputs": [
    {
     "ename": "NameError",
     "evalue": "name 'bias' is not defined",
     "output_type": "error",
     "traceback": [
      "\u001b[1;31m---------------------------------------------------------------------------\u001b[0m",
      "\u001b[1;31mNameError\u001b[0m                                 Traceback (most recent call last)",
      "Cell \u001b[1;32mIn [13], line 1\u001b[0m\n\u001b[1;32m----> 1\u001b[0m slr \u001b[38;5;241m=\u001b[39m \u001b[43mScratchLinearRegression\u001b[49m\u001b[43m(\u001b[49m\u001b[43mnum_iter\u001b[49m\u001b[38;5;241;43m=\u001b[39;49m\u001b[38;5;241;43m10\u001b[39;49m\u001b[43m,\u001b[49m\u001b[43m \u001b[49m\u001b[43mlr\u001b[49m\u001b[38;5;241;43m=\u001b[39;49m\u001b[38;5;241;43m0.01\u001b[39;49m\u001b[43m,\u001b[49m\u001b[43m \u001b[49m\u001b[43mno_bias\u001b[49m\u001b[38;5;241;43m=\u001b[39;49m\u001b[38;5;28;43;01mTrue\u001b[39;49;00m\u001b[43m,\u001b[49m\u001b[43m \u001b[49m\u001b[43mverbose\u001b[49m\u001b[38;5;241;43m=\u001b[39;49m\u001b[38;5;28;43;01mTrue\u001b[39;49;00m\u001b[43m)\u001b[49m\n\u001b[0;32m      2\u001b[0m slr\u001b[38;5;241m.\u001b[39mfit(X_train, y_train, X_test, y_test)\n",
      "Cell \u001b[1;32mIn [11], line 5\u001b[0m, in \u001b[0;36mScratchLinearRegression.__init__\u001b[1;34m(self, num_iter, lr, no_bias, verbose)\u001b[0m\n\u001b[0;32m      3\u001b[0m \u001b[38;5;28mself\u001b[39m\u001b[38;5;241m.\u001b[39mnum_iter \u001b[38;5;241m=\u001b[39m num_iter\n\u001b[0;32m      4\u001b[0m \u001b[38;5;28mself\u001b[39m\u001b[38;5;241m.\u001b[39mlr \u001b[38;5;241m=\u001b[39m lr\n\u001b[1;32m----> 5\u001b[0m \u001b[38;5;28mself\u001b[39m\u001b[38;5;241m.\u001b[39mbias \u001b[38;5;241m=\u001b[39m \u001b[43mbias\u001b[49m\n\u001b[0;32m      6\u001b[0m \u001b[38;5;28mself\u001b[39m\u001b[38;5;241m.\u001b[39mverbose \u001b[38;5;241m=\u001b[39m verbose\n\u001b[0;32m      7\u001b[0m \u001b[38;5;28mself\u001b[39m\u001b[38;5;241m.\u001b[39mtheta \u001b[38;5;241m=\u001b[39m np\u001b[38;5;241m.\u001b[39marray([])\n",
      "\u001b[1;31mNameError\u001b[0m: name 'bias' is not defined"
     ]
    }
   ],
   "source": [
    "slr = ScratchLinearRegression(num_iter=10, lr=0.01, no_bias=True, verbose=True)\n",
    "slr.fit(X_train, y_train, X_test, y_test)"
   ]
  },
  {
   "cell_type": "code",
   "execution_count": null,
   "id": "0590914b",
   "metadata": {},
   "outputs": [],
   "source": []
  }
 ],
 "metadata": {
  "kernelspec": {
   "display_name": "Python 3 (ipykernel)",
   "language": "python",
   "name": "python3"
  },
  "language_info": {
   "codemirror_mode": {
    "name": "ipython",
    "version": 3
   },
   "file_extension": ".py",
   "mimetype": "text/x-python",
   "name": "python",
   "nbconvert_exporter": "python",
   "pygments_lexer": "ipython3",
   "version": "3.8.10"
  }
 },
 "nbformat": 4,
 "nbformat_minor": 5
}
